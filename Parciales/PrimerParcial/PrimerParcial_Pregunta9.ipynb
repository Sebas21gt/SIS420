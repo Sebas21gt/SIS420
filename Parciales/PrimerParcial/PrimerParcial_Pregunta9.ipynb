{
 "cells": [
  {
   "cell_type": "code",
   "execution_count": 1,
   "metadata": {},
   "outputs": [],
   "source": [
    "class Node:\n",
    "    def __init__(self, data, son=None):\n",
    "        self.data = data\n",
    "        self.son = None\n",
    "        self.father = None\n",
    "        self.cost = None\n",
    "        self.set_son(son)\n",
    "\n",
    "    def set_son(self, son):\n",
    "        self.son = son\n",
    "        if self.son is not None:\n",
    "            for s in self.son:\n",
    "                s.father = self\n",
    "\n",
    "    def get_son(self):\n",
    "        return self.son\n",
    "\n",
    "    def get_father(self):\n",
    "        return self.father\n",
    "\n",
    "    def set_father(self, father):\n",
    "        self.father = father\n",
    "\n",
    "    def set_data(self, data):\n",
    "        self.data = data\n",
    "\n",
    "    def get_data(self):\n",
    "        return self.data\n",
    "\n",
    "    def set_cost(self, cost):\n",
    "        self.cost = cost\n",
    "\n",
    "    def get_cost(self):\n",
    "        return self.cost\n",
    "\n",
    "    def equal(self, node):\n",
    "        if self.get_data() == node.get_data():\n",
    "            return True\n",
    "        else:\n",
    "            return False\n",
    "\n",
    "    def on_list(self, node_list):\n",
    "        listed = False\n",
    "        for n in node_list:\n",
    "            if self.equal(n):\n",
    "                listed = True\n",
    "        return listed\n",
    "\n",
    "    def __str__(self):\n",
    "        return str(self.get_data())"
   ]
  },
  {
   "cell_type": "code",
   "execution_count": 2,
   "metadata": {},
   "outputs": [],
   "source": [
    "import sys\n",
    "import math\n",
    "sys.setrecursionlimit(9999999)"
   ]
  },
  {
   "cell_type": "code",
   "execution_count": 3,
   "metadata": {},
   "outputs": [],
   "source": [
    "def bpa(init_node, solution, visited):\n",
    "    visited.append(init_node.get_data())\n",
    "    if init_node.get_data() == solution:\n",
    "        return init_node\n",
    "    else:\n",
    "        # Expandir nodos sucesores (hijos)\n",
    "        node_data = init_node.get_data()\n",
    "        son_nodes = []\n",
    "        \n",
    "        for i in range(0,len(node_data)):\n",
    "            if node_data[i] != \" \":\n",
    "                son_data = node_data.copy()\n",
    "                son_data[i] = \" \"\n",
    "                son_nodes.append( Node( son_data ) )  \n",
    "        init_node.set_son(son_nodes)\n",
    "\n",
    "        for son_node in init_node.get_son():\n",
    "\n",
    "            if not son_node.get_data() in visited:\n",
    "                solutn = bpa(son_node, solution, visited)\n",
    "                if solutn is not None:\n",
    "                    return solutn\n",
    "        return None"
   ]
  },
  {
   "cell_type": "code",
   "execution_count": 4,
   "metadata": {},
   "outputs": [],
   "source": [
    "def graficar(dato):\n",
    "    print(end=\"\\n\")\n",
    "    grafico = [\n",
    "            [\" \",\" \",\" \",\" \",dato[0],dato[1],\" \",\" \",\" \",\" \"],\n",
    "            [\" \",\" \",\" \",dato[0],\" \",\" \",dato[1],\" \",\" \",\" \"],\n",
    "            [\" \",\" \",dato[0],dato[2],dato[2],dato[2],dato[2],dato[1],\" \",\" \"],\n",
    "            [\" \",\" \",dato[3],\" \",\" \",\" \",\" \",dato[6],\" \",\" \"],\n",
    "            [\" \",dato[3],\" \",dato[4],\" \",\" \",dato[5],\" \",dato[6],\" \"],\n",
    "            [dato[3],dato[7],dato[7],dato[7],dato[7],dato[8],dato[8],dato[8],dato[8],dato[6]],\n",
    "    ]\n",
    "\n",
    "    for filas in grafico:\n",
    "            print(\"   \".join(filas), end=\"\\n\")\n",
    "    print(\"\\n\")"
   ]
  },
  {
   "cell_type": "code",
   "execution_count": 5,
   "metadata": {},
   "outputs": [
    {
     "name": "stdout",
     "output_type": "stream",
     "text": [
      "\n",
      "                X   X                \n",
      "            X           X            \n",
      "        X   X   X   X   X   X        \n",
      "        X                   X        \n",
      "    X       X           X       X    \n",
      "X   X   X   X   X   X   X   X   X   X\n",
      "\n",
      "\n",
      "['X', 'X', 'X', 'X', 'X', 'X', 'X', 'X', 'X']\n",
      "['X', 'X', 'X', 'X', ' ', 'X', 'X', 'X', 'X']\n",
      "['X', 'X', 'X', 'X', ' ', ' ', 'X', 'X', 'X']\n",
      "\n",
      "                X   X                \n",
      "            X           X            \n",
      "        X   X   X   X   X   X        \n",
      "        X                   X        \n",
      "    X                           X    \n",
      "X   X   X   X   X   X   X   X   X   X\n",
      "\n",
      "\n"
     ]
    }
   ],
   "source": [
    "if __name__ == \"__main__\":\n",
    "\n",
    "    initial_state = [\"X\",\"X\",\"X\",\"X\",\"X\",\"X\",\"X\",\"X\",\"X\"]\n",
    "\n",
    "    solution_state =[\"X\",\"X\",\"X\",\"X\",\" \",\" \",\"X\",\"X\",\"X\"]\n",
    "\n",
    "    graficar(initial_state)\n",
    "\n",
    "    visited_nodes = []\n",
    "    initial_node = Node(initial_state)\n",
    "    \n",
    "    solution_node = bpa(initial_node, solution_state, visited_nodes)\n",
    "\n",
    "    result = []\n",
    "    node = solution_node\n",
    "\n",
    "    while node.get_father() is not None:\n",
    "        result.append(node.get_data())\n",
    "        node = node.get_father()\n",
    "    \n",
    "    result.append(initial_state)\n",
    "    result.reverse()\n",
    "\n",
    "\n",
    "    for valor in result:\n",
    "        print(valor, end=\"\\n\")\n",
    "\n",
    "    graficar(result.pop(-1))"
   ]
  }
 ],
 "metadata": {
  "kernelspec": {
   "display_name": "Python 3.10.6 64-bit",
   "language": "python",
   "name": "python3"
  },
  "language_info": {
   "codemirror_mode": {
    "name": "ipython",
    "version": 3
   },
   "file_extension": ".py",
   "mimetype": "text/x-python",
   "name": "python",
   "nbconvert_exporter": "python",
   "pygments_lexer": "ipython3",
   "version": "3.10.6"
  },
  "orig_nbformat": 4,
  "vscode": {
   "interpreter": {
    "hash": "221088bc405a8ad596b72a81c8e132fea2c8e3828e2da0839505f0461504a78e"
   }
  }
 },
 "nbformat": 4,
 "nbformat_minor": 2
}
