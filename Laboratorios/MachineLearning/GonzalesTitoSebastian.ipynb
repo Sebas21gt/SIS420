{
  "cells": [
    {
      "cell_type": "markdown",
      "metadata": {
        "id": "tfwOfkjclHQx"
      },
      "source": [
        "# Ejercicio de programación Regresión Lineal Multiple"
      ]
    },
    {
      "cell_type": "code",
      "execution_count": 1,
      "metadata": {
        "id": "f0WGMMljlHQz"
      },
      "outputs": [],
      "source": [
        "# utilizado para manejos de directorios y rutas\n",
        "import os\n",
        "\n",
        "# Computacion vectorial y cientifica para python\n",
        "import numpy as np\n",
        "\n",
        "# Librerias para graficación (trazado de gráficos)\n",
        "from matplotlib import pyplot\n",
        "from mpl_toolkits.mplot3d import Axes3D  # Necesario para graficar superficies 3D\n",
        "\n",
        "# llama a matplotlib a embeber graficas dentro de los cuadernillos\n",
        "%matplotlib inline"
      ]
    },
    {
      "cell_type": "markdown",
      "metadata": {
        "id": "G6-ykOwelHQ0"
      },
      "source": [
        "## 2 Regresión lineal con multiples variables\n",
        "\n",
        "Se implementa la regresion lineal multivariable para predecir el precio de las casas. El archivo `Datasets/ex1data2.txt` contiene un conjunto de entrenamiento de precios de casas en Portland, Oregon. La primera columna es el tamaño de la casa en metros cuadrados, la segunda columna es el numero de cuartos, y la tercera columna es el precio de la casa. \n",
        "\n",
        "<a id=\"section4\"></a>\n",
        "### 2.1 Normalización de caracteristicas\n",
        "\n",
        "Al visualizar los datos se puede observar que las caracteristicas tienen diferentes magnitudes, por lo cual se debe transformar cada valor en una escala de valores similares, esto con el fin de que el descenso por el gradiente pueda converger mas rapidamente."
      ]
    },
    {
      "cell_type": "code",
      "execution_count": 55,
      "metadata": {
        "id": "6BP5grkxlHQ0"
      },
      "outputs": [],
      "source": [
        "# Cargar datos\n",
        "# data = np.loadtxt(os.path.join('Datasets', 'ex1data2.txt'), delimiter=',')\n",
        "data = np.loadtxt( os.path.join('car_data.csv'), delimiter=',', skiprows=1)\n",
        "X = data[:, [0,2,3,4,5,6,7]]\n",
        "y = data[:, 1]\n",
        "m = y.size\n",
        "\n",
        "# imprimir algunos puntos de datos\n",
        "#print('{:>8s}{:>8s}{:>10s}'.format('X[:,0]', 'X[:, 1]', 'y'))\n",
        "#print('-'*26)\n",
        "#for i in range(10):\n",
        "#    print('{:8.0f}{:8.0f}{:10.0f}'.format(X[i, 0], X[i, 1], y[i]))"
      ]
    },
    {
      "cell_type": "markdown",
      "metadata": {
        "id": "7iU_3mwZlHQ1"
      },
      "source": [
        "La desviación estándar es una forma de medir cuánta variación hay en el rango de valores de una característica en particular (la mayoría de los puntos caeran en un rango de ± 2 en relación a la desviaciones estándar de la media); esta es una alternativa a tomar el rango de valores (max-min). En `numpy`, se puede usar la función `std` para calcular la desviacion estandar. \n",
        "\n",
        "Por ejemplo, la caracteristica`X[:, 0]` contiene todos los valores de $x_1$ (tamaño de las casas) en el conjunto de entrenamiento, entonces `np.std(X[:, 0])` calcula la desviacion estandar de los tamaños de las casas.\n",
        "En el momento en que se llama a la función `featureNormalize`, la columna adicional de unos correspondiente a $ x_0 = 1 $ aún no se ha agregado a $ X $. \n",
        "\n",
        "<div class=\"alert alert-block alert-warning\">\n",
        "**Notas para la implementación:** Cuando se normalize una caracteristica, es importante almacenar los valores usados para la normalización - el valor de la media y el valor de la desviación estandar usado para los calculos. Despues de aprender los parametros del modelo, se deseara predecir los precios de casas que no se han visto antes. Dado un nuevo valor de x (area del living room y el numero de dormitorios), primero se debe normalizar x usando la media y la desviacion estandar que se empleo anteriormente en el conjunto de entrenamiento para entrenar el modelo.\n",
        "</div>\n",
        "<a id=\"featureNormalize\"></a>"
      ]
    },
    {
      "cell_type": "code",
      "execution_count": 56,
      "metadata": {
        "id": "7xFD8H3WlHQ1"
      },
      "outputs": [],
      "source": [
        "def  featureNormalize(X):\n",
        "    X_norm = X.copy()\n",
        "    mu = np.zeros(X.shape[1])\n",
        "    sigma = np.zeros(X.shape[1])\n",
        "\n",
        "    mu = np.mean(X, axis = 0)\n",
        "    sigma = np.std(X, axis = 0)\n",
        "    X_norm = (X - mu) / sigma\n",
        "    \n",
        "    return X_norm, mu, sigma"
      ]
    },
    {
      "cell_type": "code",
      "execution_count": 57,
      "metadata": {
        "colab": {
          "base_uri": "https://localhost:8080/"
        },
        "id": "ipL_QsTZlHQ2",
        "outputId": "8d73de24-115a-401e-d7e1-7ca00961d777"
      },
      "outputs": [
        {
          "name": "stdout",
          "output_type": "stream",
          "text": [
            "[[2.0140e+03 5.5900e+00 2.7000e+04 ... 0.0000e+00 0.0000e+00 0.0000e+00]\n",
            " [2.0130e+03 9.5400e+00 4.3000e+04 ... 0.0000e+00 0.0000e+00 0.0000e+00]\n",
            " [2.0170e+03 9.8500e+00 6.9000e+03 ... 0.0000e+00 0.0000e+00 0.0000e+00]\n",
            " ...\n",
            " [2.0090e+03 1.1000e+01 8.7934e+04 ... 0.0000e+00 0.0000e+00 0.0000e+00]\n",
            " [2.0170e+03 1.2500e+01 9.0000e+03 ... 0.0000e+00 0.0000e+00 0.0000e+00]\n",
            " [2.0160e+03 5.9000e+00 5.4640e+03 ... 0.0000e+00 0.0000e+00 0.0000e+00]]\n",
            "Media calculada: [2.01362791e+03 7.62847176e+00 3.69472060e+04 8.07308970e-01\n",
            " 3.52159468e-01 1.32890365e-01 4.31893688e-02]\n",
            "Desviación estandar calculada: [2.88674689e+00 8.62974446e+00 3.88222340e+04 4.10913900e-01\n",
            " 4.77643358e-01 3.39456207e-01 2.47502731e-01]\n",
            "[[ 0.128897   -0.23621461 -0.25622446 ... -0.73728539 -0.39148015\n",
            "  -0.17450057]\n",
            " [-0.21751369  0.22150462  0.1559105  ... -0.73728539 -0.39148015\n",
            "  -0.17450057]\n",
            " [ 1.16812909  0.25742689 -0.77396901 ... -0.73728539 -0.39148015\n",
            "  -0.17450057]\n",
            " ...\n",
            " [-1.60315648  0.39068691  1.31334003 ... -0.73728539 -0.39148015\n",
            "  -0.17450057]\n",
            " [ 1.16812909  0.56450434 -0.7198763  ... -0.73728539 -0.39148015\n",
            "  -0.17450057]\n",
            " [ 0.8217184  -0.20029235 -0.81095812 ... -0.73728539 -0.39148015\n",
            "  -0.17450057]]\n"
          ]
        }
      ],
      "source": [
        "# llama featureNormalize con los datos cargados\n",
        "X_norm, mu, sigma = featureNormalize(X)\n",
        "\n",
        "print(X)\n",
        "print('Media calculada:', mu)\n",
        "print('Desviación estandar calculada:', sigma)\n",
        "print(X_norm)"
      ]
    },
    {
      "cell_type": "markdown",
      "metadata": {
        "id": "it9bMYuLlHQ2"
      },
      "source": [
        "Despues de `featureNormalize` la funcion es provada, se añade el temino de interseccion a `X_norm`:"
      ]
    },
    {
      "cell_type": "code",
      "execution_count": 58,
      "metadata": {
        "id": "nNaGVxgolHQ2"
      },
      "outputs": [],
      "source": [
        "# Añade el termino de interseccion a X\n",
        "# (Columna de unos para X0)\n",
        "X = np.concatenate([np.ones((m, 1)), X_norm], axis=1)"
      ]
    },
    {
      "cell_type": "code",
      "execution_count": 59,
      "metadata": {
        "colab": {
          "base_uri": "https://localhost:8080/"
        },
        "id": "nbUVohnhlHQ3",
        "outputId": "eb892d0e-865e-437e-99ce-77495cb86931"
      },
      "outputs": [
        {
          "name": "stdout",
          "output_type": "stream",
          "text": [
            "[[ 1.          0.128897   -0.23621461 ... -0.73728539 -0.39148015\n",
            "  -0.17450057]\n",
            " [ 1.         -0.21751369  0.22150462 ... -0.73728539 -0.39148015\n",
            "  -0.17450057]\n",
            " [ 1.          1.16812909  0.25742689 ... -0.73728539 -0.39148015\n",
            "  -0.17450057]\n",
            " ...\n",
            " [ 1.         -1.60315648  0.39068691 ... -0.73728539 -0.39148015\n",
            "  -0.17450057]\n",
            " [ 1.          1.16812909  0.56450434 ... -0.73728539 -0.39148015\n",
            "  -0.17450057]\n",
            " [ 1.          0.8217184  -0.20029235 ... -0.73728539 -0.39148015\n",
            "  -0.17450057]]\n"
          ]
        }
      ],
      "source": [
        "print(X)"
      ]
    },
    {
      "cell_type": "markdown",
      "metadata": {
        "id": "xzLiIE6NlHQ3"
      },
      "source": [
        "<a id=\"section5\"></a>\n",
        "### 2.2 Descenso por el gradiente\n",
        "\n",
        "En el ejemplo anterior se implemento el descenso por el gradiente para un problema de regresion univariable. La unica diferencia es que ahora existe una caracteristica adicional en la matriz $X$. La función de hipótesis y la regla de actualización del descenso del gradiente por lotes permanecen sin cambios.\n",
        "\n",
        "La implementacion de las funciones `computeCostMulti` y `gradientDescentMulti` son similares a la funcion de costo y función de descenso por el gradiente de la regresión lineal multiple es similar al de la regresion lineal multivariable. Es importante garantizar que el codigo soporte cualquier numero de caracteristicas y esten bien vectorizadas.\n",
        "\n",
        "Se puede utilizar `shape`, propiedad de los arrays `numpy`, para identificar cuantas caracteristicas estan consideradas en el dataset.\n",
        "\n",
        "<div class=\"alert alert-block alert-warning\">\n",
        "**Nota de implementación:** En el caso de multivariables, la función de costo puede se escrita considerando la forma vectorizada de la siguiente manera:\n",
        "\n",
        "$$ J(\\theta) = \\frac{1}{2m}(X\\theta - \\vec{y})^T(X\\theta - \\vec{y}) $$\n",
        "\n",
        "donde:\n",
        "\n",
        "$$ X = \\begin{pmatrix}\n",
        "          - (x^{(1)})^T - \\\\\n",
        "          - (x^{(2)})^T - \\\\\n",
        "          \\vdots \\\\\n",
        "          - (x^{(m)})^T - \\\\ \\\\\n",
        "        \\end{pmatrix} \\qquad \\mathbf{y} = \\begin{bmatrix} y^{(1)} \\\\ y^{(2)} \\\\ \\vdots \\\\ y^{(m)} \\\\\\end{bmatrix}$$\n",
        "\n",
        "La version vectorizada es eficiente cuando se trabaja con herramientas de calculo numericos computacional como `numpy`. \n",
        "</div>\n",
        "\n",
        "<a id=\"computeCostMulti\"></a>"
      ]
    },
    {
      "cell_type": "code",
      "execution_count": 60,
      "metadata": {
        "id": "EQCMN7KqlHQ3"
      },
      "outputs": [],
      "source": [
        "def computeCostMulti(X, y, theta):\n",
        "    # Inicializa algunos valores utiles\n",
        "    m = y.shape[0] # numero de ejemplos de entrenamiento\n",
        "    \n",
        "    J = 0\n",
        "    \n",
        "    h = np.dot(X, theta)\n",
        "    \n",
        "    J = (1/(2 * m)) * np.sum(np.square(np.dot(X, theta) - y))\n",
        "    \n",
        "    return J\n"
      ]
    },
    {
      "cell_type": "code",
      "execution_count": 61,
      "metadata": {
        "id": "Vdy_aQUklHQ4"
      },
      "outputs": [],
      "source": [
        "def gradientDescentMulti(X, y, theta, alpha, num_iters):\n",
        "    \n",
        "    # Inicializa algunos valores \n",
        "    m = y.shape[0] # numero de ejemplos de entrenamiento\n",
        "    \n",
        "    # realiza una copia de theta, el cual será acutalizada por el descenso por el gradiente\n",
        "    theta = theta.copy()\n",
        "    \n",
        "    J_history = []\n",
        "    \n",
        "    for i in range(num_iters):\n",
        "        theta = theta - (alpha / m) * (np.dot(X, theta) - y).dot(X)\n",
        "        J_history.append(computeCostMulti(X, y, theta))\n",
        "    \n",
        "    return theta, J_history"
      ]
    },
    {
      "cell_type": "markdown",
      "metadata": {
        "id": "a8b_GwZslHQ4"
      },
      "source": [
        "#### 3.2.1 Seleccionando coheficientes de aprendizaje\n"
      ]
    },
    {
      "cell_type": "code",
      "execution_count": 62,
      "metadata": {
        "colab": {
          "base_uri": "https://localhost:8080/",
          "height": 331
        },
        "id": "sId0DiH9lHQ4",
        "outputId": "fa74e319-39f9-4fc6-a6c1-5272c43682f5"
      },
      "outputs": [
        {
          "name": "stdout",
          "output_type": "stream",
          "text": [
            "theta calculado por el descenso por el gradiente: [ 4.66129568  1.13811461  3.78102705 -0.26587172 -0.73234918 -0.54761762\n",
            "  0.48705601 -0.16822955]\n",
            "El precio predecido para una casa de 1650 sq-ft y 3 dormitorios (usando el descenso por el gradiente): $9\n"
          ]
        },
        {
          "data": {
            "image/png": "[encoded data removed]",
            "text/plain": [
              "<Figure size 432x288 with 1 Axes>"
            ]
          },
          "metadata": {
            "needs_background": "light"
          },
          "output_type": "display_data"
        }
      ],
      "source": [
        "# Elegir algun valor para alpha (probar varias alternativas)\n",
        "alpha = 0.005 # alpha = 0.003\n",
        "num_iters = 10000\n",
        "\n",
        "# inicializa theta y ejecuta el descenso por el gradiente\n",
        "theta = np.zeros(8)\n",
        "theta, J_history = gradientDescentMulti(X, y, theta, alpha, num_iters)\n",
        "\n",
        "# Grafica la convergencia del costo\n",
        "pyplot.plot(np.arange(len(J_history)), J_history, lw=2)\n",
        "pyplot.xlabel('Numero de iteraciones')\n",
        "pyplot.ylabel('Costo J')\n",
        "\n",
        "# Muestra los resultados del descenso por el gradiente\n",
        "print('theta calculado por el descenso por el gradiente: {:s}'.format(str(theta)))\n",
        "\n",
        "# Estimar el precio para una casa de 1650 sq-ft, con 3 dormitorios\n",
        "X_array = [1.0, 2023, 9.85, 0, 1, 0, 0, 0]\n",
        "X_array[1:8] = (X_array[1:8] - mu) / sigma\n",
        "price = np.dot(X_array, theta)   # Se debe cambiar esto\n",
        "\n",
        "print('El precio predecido para una casa de 1650 sq-ft y 3 dormitorios (usando el descenso por el gradiente): ${:.0f}'.format(price))"
      ]
    },
    {
      "cell_type": "code",
      "execution_count": 63,
      "metadata": {
        "id": "y0aZhWEqlHQ4"
      },
      "outputs": [],
      "source": [
        "X_array = [1.0, 2017, 9.85, 6900, 1, 0, 0, 0]\n",
        "X_array[1:8] = (X_array[1:8] - mu) / sigma"
      ]
    },
    {
      "cell_type": "code",
      "execution_count": 64,
      "metadata": {
        "colab": {
          "base_uri": "https://localhost:8080/"
        },
        "id": "KZ4G9CbJlHQ4",
        "outputId": "afc0d0bc-40d8-4e29-8889-47ab461782d0"
      },
      "outputs": [
        {
          "data": {
            "text/plain": [
              "[1.168129093862959,\n",
              " 0.257426885511608,\n",
              " -0.7739690093234088,\n",
              " 0.468932858611696,\n",
              " -0.7372853881569494,\n",
              " -0.39148014634313566,\n",
              " -0.1745005743556463]"
            ]
          },
          "execution_count": 64,
          "metadata": {},
          "output_type": "execute_result"
        }
      ],
      "source": [
        "X_array[1:10]"
      ]
    },
    {
      "cell_type": "markdown",
      "metadata": {
        "id": "-nMzqD8elHQ4"
      },
      "source": [
        "<a id=\"section7\"></a>\n",
        "### 2.3 Ecuacion de la Normal\n",
        "\n",
        "Una manera de calcular rapidamente el modelo de una regresion lineal es:\n",
        "\n",
        "$$ \\theta = \\left( X^T X\\right)^{-1} X^T\\vec{y}$$\n",
        "\n",
        "Utilizando esta formula no requiere que se escale ninguna caracteristica, y se obtendra una solucion exacta con un solo calculo: no hay “bucles de convergencia” como en el descenso por el gradiente. \n",
        "\n",
        "Primero se recargan los datos para garantizar que las variables no esten modificadas. Recordar que no es necesario escalar las caracteristicas, se debe agregar la columna de unos a la matriz $X$ para tener el termino de intersección($\\theta_0$). "
      ]
    },
    {
      "cell_type": "code",
      "execution_count": 12,
      "metadata": {
        "id": "C6j77JNmlHQ5"
      },
      "outputs": [],
      "source": [
        "# Cargar datos\n",
        "data = np.loadtxt( os.path.join('strokeDataset.csv'), delimiter=',', skiprows=1)\n",
        "X = data[:, :9]\n",
        "y = data[:, 9]\n",
        "m = y.size\n",
        "X = np.concatenate([np.ones((m, 1)), X], axis=1)"
      ]
    },
    {
      "cell_type": "code",
      "execution_count": 13,
      "metadata": {
        "id": "gVZdjjk9lHQ5"
      },
      "outputs": [],
      "source": [
        "def normalEqn(X, y):\n",
        "  \n",
        "    theta = np.zeros(X.shape[1])\n",
        "    \n",
        "    theta = np.dot(np.dot(np.linalg.inv(np.dot(X.T,X)),X.T),y)\n",
        "    \n",
        "    return theta"
      ]
    },
    {
      "cell_type": "code",
      "execution_count": 14,
      "metadata": {
        "colab": {
          "base_uri": "https://localhost:8080/"
        },
        "id": "Ybyw-FfolHQ5",
        "outputId": "16ad4bbe-3c84-41fa-a981-5d266c96e24a"
      },
      "outputs": [
        {
          "name": "stdout",
          "output_type": "stream",
          "text": [
            "Theta calculado a partir de la ecuación de la normal: [ 4.63250835e-01  4.65291011e-03  1.07296513e-02 -1.59109250e-01\n",
            " -1.61983773e-01 -9.53952432e-02 -4.74331039e-02 -2.61049085e-04\n",
            " -2.05132010e-02 -2.13937471e-02]\n",
            "Precio predecido para una cada de superficie de 1650 sq-ft y 3 dormitorios (usando la ecuación de la normal): $0\n"
          ]
        }
      ],
      "source": [
        "# Calcula los parametros con la ecuación de la normal\n",
        "theta = normalEqn(X, y);\n",
        "\n",
        "# Muestra los resultados optenidos a partir de la aplicación de la ecuación de la normal\n",
        "print('Theta calculado a partir de la ecuación de la normal: {:s}'.format(str(theta)));\n",
        "\n",
        "# Estimar el precio para una casa de superficie de 1650 sq-ft y tres dormitorios\n",
        "\n",
        "X_array = [1.0,1,57.0,0,1,0,0,217.08,33.80840960032553,1]\n",
        "price = np.dot(X_array, theta) \n",
        "\n",
        "print('Precio predecido para una cada de superficie de 1650 sq-ft y 3 dormitorios (usando la ecuación de la normal): ${:.0f}'.format(price))"
      ]
    }
  ],
  "metadata": {
    "colab": {
      "provenance": []
    },
    "kernelspec": {
      "display_name": "Python 3.9.12 ('base')",
      "language": "python",
      "name": "python3"
    },
    "language_info": {
      "codemirror_mode": {
        "name": "ipython",
        "version": 3
      },
      "file_extension": ".py",
      "mimetype": "text/x-python",
      "name": "python",
      "nbconvert_exporter": "python",
      "pygments_lexer": "ipython3",
      "version": "3.9.12"
    },
    "vscode": {
      "interpreter": {
        "hash": "3bae3d8c463296fe75c902895712520123bdee03fdc749cca1f2f6fed1a18ba7"
      }
    }
  },
  "nbformat": 4,
  "nbformat_minor": 0
}
